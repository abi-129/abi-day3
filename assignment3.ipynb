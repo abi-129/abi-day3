{
 "cells": [
  {
   "cell_type": "code",
   "execution_count": 1,
   "metadata": {},
   "outputs": [
    {
     "name": "stdout",
     "output_type": "stream",
     "text": [
      "enter a number:7\n",
      "prime number\n"
     ]
    }
   ],
   "source": [
    "n=int(input(\"enter a number:\"))\n",
    "c=0\n",
    "for i in range(2,n,1):\n",
    "          if(n%i)==0:\n",
    "            c=c+1\n",
    "if c==0:\n",
    "    print(\"prime number\")\n",
    "else:\n",
    "    print(\"not prime number\")\n",
    "    "
   ]
  },
  {
   "cell_type": "code",
   "execution_count": 8,
   "metadata": {},
   "outputs": [
    {
     "name": "stdout",
     "output_type": "stream",
     "text": [
      "enter a number:56\n",
      "56 --> 11\n"
     ]
    }
   ],
   "source": [
    "sum1=0\n",
    "n=int(input(\"enter a number:\"))\n",
    "m=n\n",
    "while (n>0):\n",
    "    each=n%10\n",
    "    sum1=sum1+each\n",
    "    n=n//10\n",
    "    each=m\n",
    "print(each,\"-->\",sum1)"
   ]
  },
  {
   "cell_type": "code",
   "execution_count": null,
   "metadata": {},
   "outputs": [],
   "source": []
  }
 ],
 "metadata": {
  "kernelspec": {
   "display_name": "Python 3",
   "language": "python",
   "name": "python3"
  },
  "language_info": {
   "codemirror_mode": {
    "name": "ipython",
    "version": 3
   },
   "file_extension": ".py",
   "mimetype": "text/x-python",
   "name": "python",
   "nbconvert_exporter": "python",
   "pygments_lexer": "ipython3",
   "version": "3.7.6"
  }
 },
 "nbformat": 4,
 "nbformat_minor": 4
}
